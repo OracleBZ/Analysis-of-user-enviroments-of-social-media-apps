{
 "cells": [
  {
   "cell_type": "code",
   "execution_count": null,
   "id": "bf64a7b0-010a-4541-a789-f968c7865c28",
   "metadata": {},
   "outputs": [],
   "source": [
    "NAME = \"Junyu Zhu\""
   ]
  },
  {
   "cell_type": "code",
   "execution_count": null,
   "id": "c5273ed0-0458-454e-831a-1d992e798435",
   "metadata": {},
   "outputs": [],
   "source": [
    "#I use generated fake data instead to show/test the project since notebook lacks some module"
   ]
  },
  {
   "cell_type": "code",
   "execution_count": 2,
   "id": "01dd2331-71b9-4f4f-99a5-83df5717aa31",
   "metadata": {},
   "outputs": [
    {
     "name": "stderr",
     "output_type": "stream",
     "text": [
      "[nltk_data] Downloading package stopwords to /home/jz766/nltk_data...\n",
      "[nltk_data]   Package stopwords is already up-to-date!\n",
      "[nltk_data] Downloading package punkt to /home/jz766/nltk_data...\n",
      "[nltk_data]   Package punkt is already up-to-date!\n",
      "[nltk_data] Downloading package wordnet to /home/jz766/nltk_data...\n",
      "[nltk_data]   Package wordnet is already up-to-date!\n",
      "[nltk_data] Downloading package omw-1.4 to /home/jz766/nltk_data...\n",
      "[nltk_data]   Package omw-1.4 is already up-to-date!\n"
     ]
    },
    {
     "data": {
      "text/plain": [
       "True"
      ]
     },
     "execution_count": 2,
     "metadata": {},
     "output_type": "execute_result"
    }
   ],
   "source": [
    "import pandas as pd\n",
    "import random\n",
    "import re\n",
    "import nltk\n",
    "from nltk.corpus import stopwords\n",
    "from nltk.tokenize import word_tokenize\n",
    "#from vaderSentiment.vaderSentiment import SentimentIntensityAnalyzer\n",
    "from sklearn.feature_extraction.text import TfidfVectorizer\n",
    "from sklearn.cluster import KMeans\n",
    "from sklearn.model_selection import train_test_split\n",
    "from sklearn.ensemble import RandomForestClassifier\n",
    "from sklearn.linear_model import LinearRegression\n",
    "from sklearn.metrics import accuracy_score, mean_squared_error, r2_score\n",
    "from scipy.stats import spearmanr\n",
    "from scipy.stats import entropy\n",
    "import matplotlib.pyplot as plt\n",
    "import seaborn as sns\n",
    "import sqlite3\n",
    "from sklearn.preprocessing import LabelEncoder\n",
    "from sklearn.linear_model import LogisticRegression\n",
    "from sklearn.metrics import classification_report\n",
    "\n",
    "# Download necessary NLTK resources\n",
    "nltk.download('stopwords')\n",
    "nltk.download('punkt')\n",
    "nltk.download('wordnet')\n",
    "nltk.download('omw-1.4')\n"
   ]
  },
  {
   "cell_type": "code",
   "execution_count": 3,
   "id": "ef6291b1-56c5-4e8d-85d2-f9a5f223d0f5",
   "metadata": {},
   "outputs": [],
   "source": [
    "# Section 1: Getting data(Not used here)"
   ]
  },
  {
   "cell_type": "code",
   "execution_count": 4,
   "id": "f85c6ce1-d1a1-4501-b099-812f8c48a6e5",
   "metadata": {},
   "outputs": [
    {
     "name": "stdout",
     "output_type": "stream",
     "text": [
      "Posts Data:\n",
      "                    platform,text,created_at,user_id\n",
      "0  Twitter,This is a sample post about topic one....\n",
      "1  Twitter,This is a sample post about topic five...\n",
      "2  Twitter,This is a sample post about topic thre...\n",
      "3  Twitter,This is a sample post about topic five...\n",
      "4  Twitter,This is a sample post about topic thre...\n",
      "\n",
      "Survey Data:\n",
      "  user_id,platform,civility_score,usability_score,echo_chamber_perception,intelligence\n",
      "0   4099,Facebook,2.604736,2.848905,False,112.042156                                  \n",
      "1    6671,Mastodon,1.940526,1.763059,True,115.675115                                  \n",
      "2      6793,Bluesky,2.785224,3.522357,False,142.2198                                  \n",
      "3    5896,Bluesky,2.374365,3.824484,False,111.656733                                  \n",
      "4   6634,Facebook,3.759659,3.813134,False,140.671724                                  \n"
     ]
    }
   ],
   "source": [
    "# Read posts data\n",
    "posts_df = pd.read_csv('sample_posts.txt', sep='\\t')\n",
    "print(\"Posts Data:\")\n",
    "print(posts_df.head())\n",
    "\n",
    "# Read survey data\n",
    "survey_df = pd.read_csv('sample_survey.txt', sep='\\t')\n",
    "print(\"\\nSurvey Data:\")\n",
    "print(survey_df.head())"
   ]
  },
  {
   "cell_type": "code",
   "execution_count": 5,
   "id": "a9319ecb-1918-426d-8736-cb12e24bd1c0",
   "metadata": {},
   "outputs": [],
   "source": [
    "# Section 1: Data Generation"
   ]
  },
  {
   "cell_type": "code",
   "execution_count": 6,
   "id": "8c4bf4d8-ecd1-45aa-a7f2-0e611c15f2a3",
   "metadata": {},
   "outputs": [],
   "source": [
    "# Generate Fake Data\n",
    "def generate_fake_data(platform, num_samples):\n",
    "    fake_data = []\n",
    "    for _ in range(num_samples):\n",
    "        fake_data.append({\n",
    "            \"platform\": platform,\n",
    "            \"text\": f\"This is a sample post about {random.choice(['topic one', 'topic two', 'topic three', 'topic four', 'topic five'])}.\",\n",
    "            \"created_at\": pd.Timestamp.now() - pd.to_timedelta(random.randint(1, 1000), unit='h'),\n",
    "            \"user_id\": random.randint(1000, 9999)\n",
    "        })\n",
    "    return pd.DataFrame(fake_data)\n",
    "\n",
    "# Combine fake data from multiple platforms\n",
    "def create_fake_dataset():\n",
    "    platforms = [\"Twitter\", \"Facebook\", \"Instagram\", \"Bluesky\", \"Mastodon\"]\n",
    "    data_frames = [generate_fake_data(platform, 100) for platform in platforms]\n",
    "    return pd.concat(data_frames, ignore_index=True)\n"
   ]
  },
  {
   "cell_type": "code",
   "execution_count": 7,
   "id": "cd03bf13-f3be-40b2-abcd-f94a11f8ebe4",
   "metadata": {},
   "outputs": [
    {
     "name": "stdout",
     "output_type": "stream",
     "text": [
      "Generated Dataset (First 5 Rows):\n",
      "  platform                                      text  \\\n",
      "0  Twitter   This is a sample post about topic four.   \n",
      "1  Twitter  This is a sample post about topic three.   \n",
      "2  Twitter    This is a sample post about topic one.   \n",
      "3  Twitter    This is a sample post about topic two.   \n",
      "4  Twitter    This is a sample post about topic one.   \n",
      "\n",
      "                  created_at  user_id  \n",
      "0 2024-11-07 02:46:34.557412     5579  \n",
      "1 2024-11-15 17:46:34.557655     7948  \n",
      "2 2024-11-30 00:46:34.557702     9455  \n",
      "3 2024-11-01 14:46:34.557734     5870  \n",
      "4 2024-11-06 04:46:34.557762     8927  \n"
     ]
    }
   ],
   "source": [
    "# Generate the dataset and print the first few rows\n",
    "data = create_fake_dataset()\n",
    "print(\"Generated Dataset (First 5 Rows):\")\n",
    "print(data.head())"
   ]
  },
  {
   "cell_type": "code",
   "execution_count": 8,
   "id": "6a7f1cc9-8498-40da-bb1e-ffb01fc84ea0",
   "metadata": {},
   "outputs": [],
   "source": [
    "# Generate Fake Survey Data\n",
    "def generate_survey_data(num_responses=100):\n",
    "    survey_data = []\n",
    "    for _ in range(num_responses):\n",
    "        response = {\n",
    "            \"user_id\": random.randint(1000, 9999),\n",
    "            \"platform\": random.choice([\"Twitter\", \"Facebook\", \"Instagram\", \"Bluesky\", \"Mastodon\"]),\n",
    "            \"civility_score\": random.uniform(1, 5),\n",
    "            \"usability_score\": random.uniform(1, 5),\n",
    "            \"echo_chamber_perception\": random.choice([True, False]),\n",
    "            \"intelligence\": random.uniform(80, 160)  # IQ-like metric\n",
    "        }\n",
    "        survey_data.append(response)\n",
    "    return pd.DataFrame(survey_data)\n"
   ]
  },
  {
   "cell_type": "code",
   "execution_count": 9,
   "id": "8be984a5-c2ac-45a7-abd1-b0830df0e27d",
   "metadata": {},
   "outputs": [
    {
     "name": "stdout",
     "output_type": "stream",
     "text": [
      "Generated Dataset (First 5 Rows):\n",
      "   user_id  platform  civility_score  usability_score  \\\n",
      "0     5063   Twitter        3.100002         1.122429   \n",
      "1     4634   Twitter        1.343578         2.037000   \n",
      "2     8901  Mastodon        3.478047         3.543304   \n",
      "3     9491   Twitter        1.167504         3.798037   \n",
      "4     5309  Mastodon        3.300131         4.001628   \n",
      "\n",
      "   echo_chamber_perception  intelligence  \n",
      "0                    False    159.401515  \n",
      "1                    False    138.670552  \n",
      "2                    False    135.851212  \n",
      "3                     True    100.892009  \n",
      "4                    False     97.881961  \n"
     ]
    }
   ],
   "source": [
    "# Generate the dataset and print the first few rows\n",
    "survey_data = generate_survey_data()\n",
    "print(\"Generated Dataset (First 5 Rows):\")\n",
    "print(survey_data.head())"
   ]
  },
  {
   "cell_type": "code",
   "execution_count": 10,
   "id": "aac321db-75ad-4506-8114-e6589fc21204",
   "metadata": {},
   "outputs": [],
   "source": [
    "# Section 2: Data Cleaning and Preprocessing"
   ]
  },
  {
   "cell_type": "code",
   "execution_count": 11,
   "id": "0d808fd8-159f-4d1c-8097-26f98cc3f358",
   "metadata": {},
   "outputs": [],
   "source": [
    "# Clean and preprocess text\n",
    "def clean_text(text):\n",
    "    text = re.sub(r\"http\\S+|www\\S+|https\\S+\", \"\", text, flags=re.MULTILINE)\n",
    "    text = re.sub(r\"@\\w+|\\#\\w+\", \"\", text)\n",
    "    text = re.sub(r\"[^A-Za-z\\s]\", \"\", text)\n",
    "    text = text.lower()\n",
    "    return text\n"
   ]
  },
  {
   "cell_type": "code",
   "execution_count": 12,
   "id": "adc511c2-9539-4b6e-833f-c7d1bafcc00f",
   "metadata": {},
   "outputs": [],
   "source": [
    "def preprocess_text(text):\n",
    "    stop_words = set(stopwords.words(\"english\"))\n",
    "    tokens = word_tokenize(text)\n",
    "    return \" \".join([word for word in tokens if word not in stop_words])\n"
   ]
  },
  {
   "cell_type": "code",
   "execution_count": 13,
   "id": "3f0aedcf-fd92-44b5-8a10-372b0a5cc2e9",
   "metadata": {},
   "outputs": [
    {
     "name": "stdout",
     "output_type": "stream",
     "text": [
      "\n",
      "Cleaned and Preprocessed Text (First 5 Rows):\n",
      "                                       text               clean_text\n",
      "0   This is a sample post about topic four.   sample post topic four\n",
      "1  This is a sample post about topic three.  sample post topic three\n",
      "2    This is a sample post about topic one.    sample post topic one\n",
      "3    This is a sample post about topic two.    sample post topic two\n",
      "4    This is a sample post about topic one.    sample post topic one\n"
     ]
    }
   ],
   "source": [
    "# Clean and preprocess the data\n",
    "data[\"clean_text\"] = data[\"text\"].apply(clean_text).apply(preprocess_text)\n",
    "print(\"\\nCleaned and Preprocessed Text (First 5 Rows):\")\n",
    "print(data[[\"text\", \"clean_text\"]].head())"
   ]
  },
  {
   "cell_type": "code",
   "execution_count": 186,
   "id": "d40d226c-00ee-4aa7-a785-08adfce61db5",
   "metadata": {},
   "outputs": [],
   "source": [
    "# Section 3: Sentiment Analysis(Show only Don't run)"
   ]
  },
  {
   "cell_type": "code",
   "execution_count": 55,
   "id": "4b285bde-9690-4d61-8ad7-8d3a66ca9623",
   "metadata": {},
   "outputs": [],
   "source": [
    "# Initialize VADER Sentiment Analyzer\n",
    "analyzer = SentimentIntensityAnalyzer()\n",
    "\n",
    "# Define a function to compute civility and intelligence scores\n",
    "def evaluate_via_vader(text):\n",
    "    \"\"\"\n",
    "    Evaluate civility and intelligence using VADER sentiment scores.\n",
    "    Civility Score: Based on positive and negative sentiment.\n",
    "    Intelligence Score: Based on the absolute compound score.\n",
    "    \"\"\"\n",
    "    sentiment = analyzer.polarity_scores(text)\n",
    "    civility_score = max(0, min(5, sentiment[\"pos\"] * 5 - sentiment[\"neg\"] * 5))  # Scale civility between 0-5\n",
    "    intelligence_score = max(0, min(5, abs(sentiment[\"compound\"]) * 5))  # Scale intelligence between 0-5\n",
    "    return civility_score, intelligence_score\n",
    "\n",
    "# Apply the function to the clean_text column\n",
    "data[\"civility_score\"], data[\"intelligence_score\"] = zip(\n",
    "    *data[\"clean_text\"].apply(evaluate_via_vader)\n",
    ")"
   ]
  },
  {
   "cell_type": "code",
   "execution_count": 111,
   "id": "f75d57b5-5ccd-46d4-ac27-2da2fa44b5d3",
   "metadata": {},
   "outputs": [
    {
     "name": "stdout",
     "output_type": "stream",
     "text": [
      "\n",
      "Updated Data with Civility and Intelligence Scores (First 5 Rows):\n"
     ]
    },
    {
     "ename": "KeyError",
     "evalue": "\"['civility_score', 'intelligence_score'] not in index\"",
     "output_type": "error",
     "traceback": [
      "\u001b[0;31m---------------------------------------------------------------------------\u001b[0m",
      "\u001b[0;31mKeyError\u001b[0m                                  Traceback (most recent call last)",
      "Cell \u001b[0;32mIn[111], line 3\u001b[0m\n\u001b[1;32m      1\u001b[0m \u001b[38;5;66;03m# Display a preview of the updated DataFrame\u001b[39;00m\n\u001b[1;32m      2\u001b[0m \u001b[38;5;28mprint\u001b[39m(\u001b[38;5;124m\"\u001b[39m\u001b[38;5;130;01m\\n\u001b[39;00m\u001b[38;5;124mUpdated Data with Civility and Intelligence Scores (First 5 Rows):\u001b[39m\u001b[38;5;124m\"\u001b[39m)\n\u001b[0;32m----> 3\u001b[0m \u001b[38;5;28mprint\u001b[39m(data[[\u001b[38;5;124m\"\u001b[39m\u001b[38;5;124mclean_text\u001b[39m\u001b[38;5;124m\"\u001b[39m, \u001b[38;5;124m\"\u001b[39m\u001b[38;5;124mcivility_score\u001b[39m\u001b[38;5;124m\"\u001b[39m, \u001b[38;5;124m\"\u001b[39m\u001b[38;5;124mintelligence_score\u001b[39m\u001b[38;5;124m\"\u001b[39m]]\u001b[38;5;241m.\u001b[39mhead())\n",
      "File \u001b[0;32m/usr/lib/anaconda3/lib/python3.12/site-packages/pandas/core/frame.py:4108\u001b[0m, in \u001b[0;36mDataFrame.__getitem__\u001b[0;34m(self, key)\u001b[0m\n\u001b[1;32m   4106\u001b[0m     \u001b[38;5;28;01mif\u001b[39;00m is_iterator(key):\n\u001b[1;32m   4107\u001b[0m         key \u001b[38;5;241m=\u001b[39m \u001b[38;5;28mlist\u001b[39m(key)\n\u001b[0;32m-> 4108\u001b[0m     indexer \u001b[38;5;241m=\u001b[39m \u001b[38;5;28mself\u001b[39m\u001b[38;5;241m.\u001b[39mcolumns\u001b[38;5;241m.\u001b[39m_get_indexer_strict(key, \u001b[38;5;124m\"\u001b[39m\u001b[38;5;124mcolumns\u001b[39m\u001b[38;5;124m\"\u001b[39m)[\u001b[38;5;241m1\u001b[39m]\n\u001b[1;32m   4110\u001b[0m \u001b[38;5;66;03m# take() does not accept boolean indexers\u001b[39;00m\n\u001b[1;32m   4111\u001b[0m \u001b[38;5;28;01mif\u001b[39;00m \u001b[38;5;28mgetattr\u001b[39m(indexer, \u001b[38;5;124m\"\u001b[39m\u001b[38;5;124mdtype\u001b[39m\u001b[38;5;124m\"\u001b[39m, \u001b[38;5;28;01mNone\u001b[39;00m) \u001b[38;5;241m==\u001b[39m \u001b[38;5;28mbool\u001b[39m:\n",
      "File \u001b[0;32m/usr/lib/anaconda3/lib/python3.12/site-packages/pandas/core/indexes/base.py:6200\u001b[0m, in \u001b[0;36mIndex._get_indexer_strict\u001b[0;34m(self, key, axis_name)\u001b[0m\n\u001b[1;32m   6197\u001b[0m \u001b[38;5;28;01melse\u001b[39;00m:\n\u001b[1;32m   6198\u001b[0m     keyarr, indexer, new_indexer \u001b[38;5;241m=\u001b[39m \u001b[38;5;28mself\u001b[39m\u001b[38;5;241m.\u001b[39m_reindex_non_unique(keyarr)\n\u001b[0;32m-> 6200\u001b[0m \u001b[38;5;28mself\u001b[39m\u001b[38;5;241m.\u001b[39m_raise_if_missing(keyarr, indexer, axis_name)\n\u001b[1;32m   6202\u001b[0m keyarr \u001b[38;5;241m=\u001b[39m \u001b[38;5;28mself\u001b[39m\u001b[38;5;241m.\u001b[39mtake(indexer)\n\u001b[1;32m   6203\u001b[0m \u001b[38;5;28;01mif\u001b[39;00m \u001b[38;5;28misinstance\u001b[39m(key, Index):\n\u001b[1;32m   6204\u001b[0m     \u001b[38;5;66;03m# GH 42790 - Preserve name from an Index\u001b[39;00m\n",
      "File \u001b[0;32m/usr/lib/anaconda3/lib/python3.12/site-packages/pandas/core/indexes/base.py:6252\u001b[0m, in \u001b[0;36mIndex._raise_if_missing\u001b[0;34m(self, key, indexer, axis_name)\u001b[0m\n\u001b[1;32m   6249\u001b[0m     \u001b[38;5;28;01mraise\u001b[39;00m \u001b[38;5;167;01mKeyError\u001b[39;00m(\u001b[38;5;124mf\u001b[39m\u001b[38;5;124m\"\u001b[39m\u001b[38;5;124mNone of [\u001b[39m\u001b[38;5;132;01m{\u001b[39;00mkey\u001b[38;5;132;01m}\u001b[39;00m\u001b[38;5;124m] are in the [\u001b[39m\u001b[38;5;132;01m{\u001b[39;00maxis_name\u001b[38;5;132;01m}\u001b[39;00m\u001b[38;5;124m]\u001b[39m\u001b[38;5;124m\"\u001b[39m)\n\u001b[1;32m   6251\u001b[0m not_found \u001b[38;5;241m=\u001b[39m \u001b[38;5;28mlist\u001b[39m(ensure_index(key)[missing_mask\u001b[38;5;241m.\u001b[39mnonzero()[\u001b[38;5;241m0\u001b[39m]]\u001b[38;5;241m.\u001b[39munique())\n\u001b[0;32m-> 6252\u001b[0m \u001b[38;5;28;01mraise\u001b[39;00m \u001b[38;5;167;01mKeyError\u001b[39;00m(\u001b[38;5;124mf\u001b[39m\u001b[38;5;124m\"\u001b[39m\u001b[38;5;132;01m{\u001b[39;00mnot_found\u001b[38;5;132;01m}\u001b[39;00m\u001b[38;5;124m not in index\u001b[39m\u001b[38;5;124m\"\u001b[39m)\n",
      "\u001b[0;31mKeyError\u001b[0m: \"['civility_score', 'intelligence_score'] not in index\""
     ]
    }
   ],
   "source": [
    "# Display a preview of the updated DataFrame\n",
    "print(\"\\nUpdated Data with Civility and Intelligence Scores (First 5 Rows):\")\n",
    "print(data[[\"clean_text\", \"civility_score\", \"intelligence_score\"]].head())"
   ]
  },
  {
   "cell_type": "code",
   "execution_count": 14,
   "id": "e1c1df50-27d4-4762-bb92-3add46a7426e",
   "metadata": {},
   "outputs": [],
   "source": [
    "# Section 3: Sentiment Generation"
   ]
  },
  {
   "cell_type": "code",
   "execution_count": 15,
   "id": "462a59b5-c497-48ef-942e-7a32c3111e9c",
   "metadata": {},
   "outputs": [],
   "source": [
    "# Define functions to generate fake civility and intelligence scores\n",
    "def generate_fake_civility():\n",
    "    \"\"\"Generate a fake civility score between 1 and 5.\"\"\"\n",
    "    return round(random.uniform(1, 5), 2)\n",
    "\n",
    "def generate_fake_intelligence():\n",
    "    \"\"\"Generate a fake intelligence score between 1 and 5.\"\"\"\n",
    "    return round(random.uniform(1, 5), 2)\n",
    "\n",
    "# Apply the functions to generate scores\n",
    "data[\"civility_score\"] = data[\"clean_text\"].apply(lambda x: generate_fake_civility())\n",
    "data[\"intelligence_score\"] = data[\"clean_text\"].apply(lambda x: generate_fake_intelligence())\n"
   ]
  },
  {
   "cell_type": "code",
   "execution_count": 16,
   "id": "984c9822-e68b-4a24-8215-e912f4ba67f2",
   "metadata": {},
   "outputs": [
    {
     "name": "stdout",
     "output_type": "stream",
     "text": [
      "\n",
      "Updated Data with Fake Civility and Intelligence Scores (First 5 Rows):\n",
      "                clean_text  civility_score  intelligence_score\n",
      "0   sample post topic four            3.07                2.44\n",
      "1  sample post topic three            2.34                2.28\n",
      "2    sample post topic one            4.45                4.68\n",
      "3    sample post topic two            4.69                4.08\n",
      "4    sample post topic one            4.85                3.85\n"
     ]
    }
   ],
   "source": [
    "# Display a preview of the updated DataFrame\n",
    "print(\"\\nUpdated Data with Fake Civility and Intelligence Scores (First 5 Rows):\")\n",
    "print(data[[\"clean_text\", \"civility_score\", \"intelligence_score\"]].head())"
   ]
  },
  {
   "cell_type": "code",
   "execution_count": 17,
   "id": "35d4816f-05c8-400c-9b08-200b8bf945c7",
   "metadata": {},
   "outputs": [],
   "source": [
    "# Section 4: Clustering and Echo Chamber Detection"
   ]
  },
  {
   "cell_type": "code",
   "execution_count": 18,
   "id": "1706a144-0ff8-448a-b638-e479b3e807cf",
   "metadata": {},
   "outputs": [],
   "source": [
    "# Detect Echo Chambers/Clustering\n",
    "def detect_echo_chambers(texts, num_clusters=3):\n",
    "    #Detect echo chambers by clustering similar content.\n",
    "    #Parameters:\n",
    "    #- texts: List of text data to cluster.\n",
    "    #- num_clusters: Number of clusters to form.\n",
    "    #Returns:\n",
    "    #- labels: Cluster labels for each text entry.\n",
    "    \n",
    "    # Step 1: Vectorize text using TF-IDF\n",
    "    vectorizer = TfidfVectorizer(max_features=5000, stop_words='english')\n",
    "    X = vectorizer.fit_transform(texts)\n",
    "    # Step 2: Apply K-Means clustering\n",
    "    kmeans = KMeans(n_clusters=num_clusters, random_state=42)\n",
    "    labels = kmeans.fit_predict(X)\n",
    "    return labels\n"
   ]
  },
  {
   "cell_type": "code",
   "execution_count": 19,
   "id": "b9f5e96a-4628-4fde-b261-63dab49697f2",
   "metadata": {},
   "outputs": [
    {
     "name": "stdout",
     "output_type": "stream",
     "text": [
      "\n",
      "Clustering Results (First 5 Rows):\n",
      "                clean_text  cluster\n",
      "0   sample post topic four        0\n",
      "1  sample post topic three        0\n",
      "2    sample post topic one        0\n",
      "3    sample post topic two        0\n",
      "4    sample post topic one        0\n"
     ]
    },
    {
     "name": "stderr",
     "output_type": "stream",
     "text": [
      "/usr/lib/anaconda3/lib/python3.12/site-packages/sklearn/base.py:1474: ConvergenceWarning: Number of distinct clusters (1) found smaller than n_clusters (3). Possibly due to duplicate points in X.\n",
      "  return fit_method(estimator, *args, **kwargs)\n"
     ]
    }
   ],
   "source": [
    "# Apply clustering for echo chamber detection\n",
    "data[\"cluster\"] = detect_echo_chambers(data[\"clean_text\"])\n",
    "print(\"\\nClustering Results (First 5 Rows):\")\n",
    "print(data[[\"clean_text\", \"cluster\"]].head())\n"
   ]
  },
  {
   "cell_type": "code",
   "execution_count": 20,
   "id": "c5e539c8-5ce3-4204-bf1f-0cde92f9c6d9",
   "metadata": {},
   "outputs": [
    {
     "data": {
      "image/png": "[encoded data removed]",
      "text/plain": [
       "<Figure size 1000x600 with 2 Axes>"
      ]
     },
     "metadata": {},
     "output_type": "display_data"
    }
   ],
   "source": [
    "# Test: Visualize clusters (Dimensionality Reduction with PCA)\n",
    "from sklearn.decomposition import PCA\n",
    "\n",
    "def plot_clusters(data, texts, cluster_column):\n",
    "    \"\"\"\n",
    "    Visualize the clustering results.\n",
    "\n",
    "    Parameters:\n",
    "    - data: DataFrame containing the data and cluster assignments.\n",
    "    - texts: Original text data (used for dimensionality reduction).\n",
    "    - cluster_column: Column name indicating cluster labels.\n",
    "    \"\"\"\n",
    "    vectorizer = TfidfVectorizer(max_features=5000, stop_words='english')\n",
    "    X = vectorizer.fit_transform(texts)\n",
    "\n",
    "    # Reduce dimensions for visualization\n",
    "    pca = PCA(n_components=2)\n",
    "    reduced_data = pca.fit_transform(X.toarray())\n",
    "\n",
    "    plt.figure(figsize=(10, 6))\n",
    "    plt.scatter(\n",
    "        reduced_data[:, 0], \n",
    "        reduced_data[:, 1], \n",
    "        c=data[cluster_column], \n",
    "        cmap='viridis', \n",
    "        s=10\n",
    "    )\n",
    "    plt.colorbar(label=\"Cluster\")\n",
    "    plt.title(\"Echo Chamber Clusters\")\n",
    "    plt.xlabel(\"PCA Component 1\")\n",
    "    plt.ylabel(\"PCA Component 2\")\n",
    "    plt.show()\n",
    "\n",
    "# Plot the clusters\n",
    "plot_clusters(data, data[\"clean_text\"], \"cluster\")"
   ]
  },
  {
   "cell_type": "code",
   "execution_count": 21,
   "id": "857bda95-edf0-46b1-bd2a-d21191e1aaf1",
   "metadata": {},
   "outputs": [],
   "source": [
    "# Section 5: Algorithm Simulation"
   ]
  },
  {
   "cell_type": "code",
   "execution_count": 22,
   "id": "1a68c6eb-ef86-4a81-a765-777c560f1b01",
   "metadata": {},
   "outputs": [
    {
     "name": "stdout",
     "output_type": "stream",
     "text": [
      "Total Recommendations: 50\n",
      "Controversial Posts: 50\n",
      "Frequency of Controversial Posts: 1.00\n"
     ]
    },
    {
     "data": {
      "image/png": "[encoded data removed]",
      "text/plain": [
       "<Figure size 1000x600 with 1 Axes>"
      ]
     },
     "metadata": {},
     "output_type": "display_data"
    }
   ],
   "source": [
    "# Simulate content recommendation algorithms\n",
    "# Define a function to simulate the recommendation algorithm\n",
    "def simulate_recommendation_algorithm(data, num_recommendations=10):    \n",
    "    #Simulate a recommendation algorithm by randomly selecting posts.\n",
    "    return data.sample(num_recommendations)\n",
    "\n",
    "# Define a function to determine if a post is controversial\n",
    "def is_controversial(row, threshold=1.0):\n",
    "    #Determine if a post is controversial based on the variance in civility scores.\n",
    "    return row['civility_score'] > threshold\n",
    "\n",
    "# Simulate the recommendation algorithm\n",
    "recommended_posts = simulate_recommendation_algorithm(data, num_recommendations=50)\n",
    "\n",
    "# Analyze the frequency of controversial posts in the recommendations\n",
    "recommended_posts['controversial'] = recommended_posts.apply(is_controversial, axis=1)\n",
    "controversial_count = recommended_posts['controversial'].sum()\n",
    "total_recommendations = len(recommended_posts)\n",
    "\n",
    "# Calculate the frequency of controversial posts\n",
    "controversial_frequency = controversial_count / total_recommendations\n",
    "\n",
    "# Display the results\n",
    "print(f\"Total Recommendations: {total_recommendations}\")\n",
    "print(f\"Controversial Posts: {controversial_count}\")\n",
    "print(f\"Frequency of Controversial Posts: {controversial_frequency:.2f}\")\n",
    "\n",
    "# Visualization of the results\n",
    "plt.figure(figsize=(10, 6))\n",
    "sns.countplot(x='controversial', data=recommended_posts)\n",
    "plt.title('Frequency of Controversial Posts in Recommendations')\n",
    "plt.xlabel('Controversial')\n",
    "plt.ylabel('Count')\n",
    "plt.show()"
   ]
  },
  {
   "cell_type": "code",
   "execution_count": 23,
   "id": "2af45ba4-b919-48c5-bd31-930f7d579b31",
   "metadata": {},
   "outputs": [],
   "source": [
    "# Section 6: Database Integration"
   ]
  },
  {
   "cell_type": "code",
   "execution_count": 24,
   "id": "c1204d13-de05-4d2e-8b0b-9874a5f23096",
   "metadata": {},
   "outputs": [],
   "source": [
    "# Database setup\n",
    "def setup_database():\n",
    "    conn = sqlite3.connect(\"social_media_analysis.db\")\n",
    "    cursor = conn.cursor()\n",
    "    cursor.execute(\"\"\"\n",
    "        CREATE TABLE IF NOT EXISTS posts (\n",
    "            id INTEGER PRIMARY KEY AUTOINCREMENT,\n",
    "            platform TEXT,\n",
    "            text TEXT,\n",
    "            clean_text TEXT,\n",
    "            created_at TEXT,\n",
    "            user_id TEXT,\n",
    "            civility_score REAL,\n",
    "            intelligence_score REAL,\n",
    "            cluster INTEGER\n",
    "        )\n",
    "    \"\"\")\n",
    "    cursor.execute(\"\"\"\n",
    "        CREATE TABLE IF NOT EXISTS survey (\n",
    "            id INTEGER PRIMARY KEY AUTOINCREMENT,\n",
    "            user_id TEXT,\n",
    "            platform TEXT,\n",
    "            civility_score REAL,\n",
    "            usability_score REAL,\n",
    "            echo_chamber_perception BOOLEAN,\n",
    "            intelligence REAL\n",
    "        )\n",
    "    \"\"\")\n",
    "    conn.commit()\n",
    "    return conn\n"
   ]
  },
  {
   "cell_type": "code",
   "execution_count": 31,
   "id": "1ce780fb-89b7-43e6-acc2-99a9576d5f0a",
   "metadata": {},
   "outputs": [
    {
     "name": "stdout",
     "output_type": "stream",
     "text": [
      "Posts Table (First 5 Rows):\n",
      "(1, 'Twitter', 'This is a sample post about topic one.', 'sample post topic one', '2024-10-31 22:12:30.053802', '1885', 2.4, 4.28, 0)\n",
      "(2, 'Twitter', 'This is a sample post about topic five.', 'sample post topic five', '2024-11-28 10:12:30.054469', '9592', 1.49, 1.59, 0)\n",
      "(3, 'Twitter', 'This is a sample post about topic three.', 'sample post topic three', '2024-11-12 21:12:30.054593', '5158', 1.28, 4.64, 0)\n",
      "(4, 'Twitter', 'This is a sample post about topic five.', 'sample post topic five', '2024-11-29 20:12:30.054667', '6051', 1.8, 4.29, 0)\n",
      "(5, 'Twitter', 'This is a sample post about topic three.', 'sample post topic three', '2024-12-11 21:12:30.054725', '8444', 2.95, 2.91, 0)\n",
      "Survey Table (First 5 Rows):\n",
      "(1, '4099', 'Facebook', 2.6047361037633574, 2.848905496201984, 0, 112.04215572839452)\n",
      "(2, '6671', 'Mastodon', 1.9405260521451986, 1.7630588223362684, 1, 115.67511504253824)\n",
      "(3, '6793', 'Bluesky', 2.7852238770692783, 3.5223568496733733, 0, 142.21979963986016)\n",
      "(4, '5896', 'Bluesky', 2.3743649559017164, 3.8244842955242353, 0, 111.65673300552064)\n",
      "(5, '6634', 'Facebook', 3.7596592804623956, 3.81313448794103, 0, 140.6717237930261)\n"
     ]
    }
   ],
   "source": [
    "# Insert data into the database\n",
    "def store_data(conn, dataframe, table_name):\n",
    "    dataframe.to_sql(table_name, conn, if_exists=\"append\", index=False)\n",
    "\n",
    "# Setup database and insert generated data\n",
    "conn = setup_database()\n",
    "store_data(conn, data, \"posts\")\n",
    "store_data(conn, survey_data, \"survey\")\n",
    "\n",
    "# Verify the data insertion by querying the tables\n",
    "cursor = conn.cursor()\n",
    "cursor.execute(\"SELECT * FROM posts LIMIT 5\")\n",
    "print(\"Posts Table (First 5 Rows):\")\n",
    "for row in cursor.fetchall():\n",
    "    print(row)\n",
    "\n",
    "cursor.execute(\"SELECT * FROM survey LIMIT 5\")\n",
    "print(\"Survey Table (First 5 Rows):\")\n",
    "for row in cursor.fetchall():\n",
    "    print(row)\n",
    "\n",
    "# Close the connection\n",
    "#conn.close()"
   ]
  },
  {
   "cell_type": "code",
   "execution_count": 26,
   "id": "9f745405-16b7-4405-bf85-69e3f71d64bb",
   "metadata": {},
   "outputs": [],
   "source": [
    "# Section 7: Queries/Database(sql) manipulations"
   ]
  },
  {
   "cell_type": "code",
   "execution_count": 32,
   "id": "d6dfae5f-e9b0-4580-93eb-59ff3dab8b97",
   "metadata": {},
   "outputs": [],
   "source": [
    "# Query execution\n",
    "def run_query(query):\n",
    "    conn = sqlite3.connect(\"social_media_analysis.db\")\n",
    "    cursor = conn.cursor()\n",
    "    cursor.execute(query)\n",
    "    results = cursor.fetchall()\n",
    "    conn.close()\n",
    "    return results\n"
   ]
  },
  {
   "cell_type": "code",
   "execution_count": 33,
   "id": "2b12f17f-856f-4b56-b4d1-d4af8d055bc7",
   "metadata": {},
   "outputs": [
    {
     "name": "stdout",
     "output_type": "stream",
     "text": [
      "Analyzing relationships with SQL queries...\n",
      "\n",
      "Cluster Distribution Across Platforms:\n",
      "    platform  cluster  post_count\n",
      "0    Bluesky        0         300\n",
      "1   Facebook        0         300\n",
      "2  Instagram        0         300\n",
      "3   Mastodon        0         300\n",
      "4    Twitter        0         300\n"
     ]
    }
   ],
   "source": [
    "print(\"Analyzing relationships with SQL queries...\")\n",
    "\n",
    "query = \"\"\"\n",
    "SELECT \n",
    "    p.platform AS platform,\n",
    "    p.cluster AS cluster,\n",
    "    COUNT(p.id) AS post_count\n",
    "FROM posts p\n",
    "GROUP BY p.platform, p.cluster\n",
    "ORDER BY platform, cluster;\n",
    "\"\"\"\n",
    "result = pd.read_sql_query(query, conn)\n",
    "print(\"\\nCluster Distribution Across Platforms:\")\n",
    "print(result)\n"
   ]
  },
  {
   "cell_type": "code",
   "execution_count": 34,
   "id": "3f322f29-7937-49b2-9618-5b05735eaed4",
   "metadata": {},
   "outputs": [
    {
     "name": "stdout",
     "output_type": "stream",
     "text": [
      "\n",
      "Relationships Between Civility and Intelligence Levels by Platform:\n",
      "    platform  avg_civility  avg_intelligence\n",
      "0    Twitter      3.192733          3.107867\n",
      "1    Bluesky      3.042667          2.899500\n",
      "2   Facebook      2.980400          2.948300\n",
      "3   Mastodon      2.939833          3.113067\n",
      "4  Instagram      2.915133          3.019467\n"
     ]
    }
   ],
   "source": [
    "query = \"\"\"\n",
    "SELECT \n",
    "    p.platform AS platform,\n",
    "    AVG(p.civility_score) AS avg_civility,\n",
    "    AVG(p.intelligence_score) AS avg_intelligence\n",
    "FROM posts p\n",
    "GROUP BY p.platform\n",
    "ORDER BY avg_civility DESC;\n",
    "\"\"\"\n",
    "result = pd.read_sql_query(query, conn)\n",
    "print(\"\\nRelationships Between Civility and Intelligence Levels by Platform:\")\n",
    "print(result)\n"
   ]
  },
  {
   "cell_type": "code",
   "execution_count": 35,
   "id": "8e848be7-86c4-495c-b518-942c0969fb64",
   "metadata": {},
   "outputs": [
    {
     "name": "stdout",
     "output_type": "stream",
     "text": [
      "\n",
      "Civility and Intelligence Levels by Clusters:\n",
      "   cluster  avg_civility  avg_intelligence  post_count\n",
      "0        0      3.014153           3.01764        1500\n"
     ]
    }
   ],
   "source": [
    "query = \"\"\"\n",
    "SELECT \n",
    "    p.cluster AS cluster,\n",
    "    AVG(p.civility_score) AS avg_civility,\n",
    "    AVG(p.intelligence_score) AS avg_intelligence,\n",
    "    COUNT(p.id) AS post_count\n",
    "FROM posts p\n",
    "GROUP BY p.cluster\n",
    "ORDER BY avg_civility DESC, avg_intelligence DESC;\n",
    "\"\"\"\n",
    "result = pd.read_sql_query(query, conn)\n",
    "print(\"\\nCivility and Intelligence Levels by Clusters:\")\n",
    "print(result)\n"
   ]
  },
  {
   "cell_type": "code",
   "execution_count": 36,
   "id": "b592a385-d784-4f8d-901c-6be0bd14bad2",
   "metadata": {},
   "outputs": [
    {
     "name": "stdout",
     "output_type": "stream",
     "text": [
      "\n",
      "Posts with Survey Data (First 10 Rows):\n",
      "   post_id post_platform                                 post_text  \\\n",
      "0       15       Twitter   This is a sample post about topic five.   \n",
      "1       79       Twitter    This is a sample post about topic two.   \n",
      "2       79       Twitter    This is a sample post about topic two.   \n",
      "3      108      Facebook    This is a sample post about topic two.   \n",
      "4      139      Facebook  This is a sample post about topic three.   \n",
      "5      188      Facebook  This is a sample post about topic three.   \n",
      "6      188      Facebook  This is a sample post about topic three.   \n",
      "7      205     Instagram    This is a sample post about topic one.   \n",
      "8      230     Instagram   This is a sample post about topic four.   \n",
      "9      230     Instagram   This is a sample post about topic four.   \n",
      "\n",
      "  survey_platform  survey_civility  usability_score  \n",
      "0         Twitter         4.231372         4.754842  \n",
      "1         Bluesky         3.899745         3.129905  \n",
      "2         Bluesky         3.899745         3.129905  \n",
      "3         Bluesky         3.835592         3.122812  \n",
      "4         Bluesky         2.925593         1.692736  \n",
      "5         Bluesky         4.271593         2.148960  \n",
      "6         Bluesky         4.271593         2.148960  \n",
      "7         Twitter         4.112372         2.551580  \n",
      "8         Twitter         1.508959         1.669233  \n",
      "9         Twitter         1.508959         1.669233  \n"
     ]
    }
   ],
   "source": [
    "query = \"\"\"\n",
    "SELECT \n",
    "    p.id AS post_id,\n",
    "    p.platform AS post_platform,\n",
    "    p.text AS post_text,\n",
    "    s.platform AS survey_platform,\n",
    "    s.civility_score AS survey_civility,\n",
    "    s.usability_score\n",
    "FROM posts p\n",
    "JOIN survey s ON p.user_id = s.user_id\n",
    "LIMIT 10;\n",
    "\"\"\"\n",
    "result = pd.read_sql_query(query, conn)\n",
    "print(\"\\nPosts with Survey Data (First 10 Rows):\")\n",
    "print(result)\n"
   ]
  },
  {
   "cell_type": "code",
   "execution_count": 37,
   "id": "f379b1ac-1899-45c6-85c4-bf169a53d686",
   "metadata": {},
   "outputs": [
    {
     "name": "stdout",
     "output_type": "stream",
     "text": [
      "\n",
      "Average Civility by Platform:\n",
      "  post_platform  avg_post_civility  avg_survey_civility\n",
      "0       Bluesky           3.270952             2.635334\n",
      "1      Facebook           2.796250             3.640161\n",
      "2     Instagram           4.029474             3.234882\n",
      "3      Mastodon           2.779091             1.999489\n",
      "4       Twitter           2.648000             3.402697\n"
     ]
    }
   ],
   "source": [
    "query = \"\"\"\n",
    "SELECT \n",
    "    p.platform AS post_platform,\n",
    "    AVG(p.civility_score) AS avg_post_civility,\n",
    "    AVG(s.civility_score) AS avg_survey_civility\n",
    "FROM posts p\n",
    "JOIN survey s ON p.user_id = s.user_id\n",
    "GROUP BY p.platform;\n",
    "\"\"\"\n",
    "result = pd.read_sql_query(query, conn)\n",
    "print(\"\\nAverage Civility by Platform:\")\n",
    "print(result)\n"
   ]
  },
  {
   "cell_type": "code",
   "execution_count": 38,
   "id": "5fcd01c3-58c4-43a2-993c-710f5137db9b",
   "metadata": {},
   "outputs": [
    {
     "name": "stdout",
     "output_type": "stream",
     "text": [
      "\n",
      "Usability vs. Civility by Platform:\n",
      "   avg_usability  avg_post_civility\n",
      "0       2.617196           2.666667\n",
      "1       3.125378           2.945000\n",
      "2       1.942435           3.240000\n",
      "3       3.209094           3.319091\n",
      "4       2.795034           3.780909\n"
     ]
    }
   ],
   "source": [
    "query = \"\"\"\n",
    "SELECT \n",
    "    AVG(s.usability_score) AS avg_usability,\n",
    "    AVG(p.civility_score) AS avg_post_civility\n",
    "FROM survey s\n",
    "JOIN posts p ON s.user_id = p.user_id\n",
    "GROUP BY s.platform;\n",
    "\"\"\"\n",
    "result = pd.read_sql_query(query, conn)\n",
    "print(\"\\nUsability vs. Civility by Platform:\")\n",
    "print(result)\n"
   ]
  },
  {
   "cell_type": "code",
   "execution_count": 39,
   "id": "4b746e79-f698-4bef-81bf-ac3aa0b801bb",
   "metadata": {},
   "outputs": [
    {
     "name": "stdout",
     "output_type": "stream",
     "text": [
      "\n",
      "Comparison of Controversial Posts and Survey Civility (First 10 Rows):\n",
      "   post_id  post_civility  survey_civility               clean_text\n",
      "0      332           1.43         2.785224    sample post topic one\n",
      "1      380           1.60         2.202373   sample post topic five\n",
      "2      380           1.60         2.202373   sample post topic five\n",
      "3      139           1.79         2.925593  sample post topic three\n",
      "4      771           1.99         2.141257    sample post topic two\n",
      "5     1271           1.99         2.141257    sample post topic two\n"
     ]
    }
   ],
   "source": [
    "query = \"\"\"\n",
    "SELECT \n",
    "    p.id AS post_id,\n",
    "    p.civility_score AS post_civility,\n",
    "    s.civility_score AS survey_civility,\n",
    "    p.clean_text\n",
    "FROM posts p\n",
    "JOIN survey s ON p.user_id = s.user_id\n",
    "WHERE p.civility_score < 2\n",
    "ORDER BY p.civility_score ASC\n",
    "LIMIT 10;\n",
    "\"\"\"\n",
    "result = pd.read_sql_query(query, conn)\n",
    "print(\"\\nComparison of Controversial Posts and Survey Civility (First 10 Rows):\")\n",
    "print(result)\n"
   ]
  },
  {
   "cell_type": "code",
   "execution_count": 40,
   "id": "8b73e43c-310e-4828-b20c-3b20f160f21c",
   "metadata": {},
   "outputs": [],
   "source": [
    "# close database\n",
    "conn.close()"
   ]
  },
  {
   "cell_type": "code",
   "execution_count": 41,
   "id": "e6464989-00a1-403e-ab65-dd3fb3176396",
   "metadata": {},
   "outputs": [],
   "source": [
    "# Section 8: Visualization and Data Analysis"
   ]
  },
  {
   "cell_type": "code",
   "execution_count": null,
   "id": "4992197b-e957-48e9-a5d6-52d7f2c94c21",
   "metadata": {},
   "outputs": [],
   "source": [
    "# Civility Distribution\n",
    "sns.histplot(data[\"civility_score\"], bins=5, kde=False)\n",
    "plt.title(\"Distribution of Civility Scores\")\n",
    "plt.xlabel(\"Civility Score\")\n",
    "plt.ylabel(\"Frequency\")\n",
    "plt.show()\n",
    "\n",
    "# Intelligence vs Civility\n",
    "sns.scatterplot(x=\"civility_score\", y=\"intelligence_score\", hue=\"cluster\", data=data)\n",
    "plt.title(\"Civility vs Intelligence by Cluster\")\n",
    "plt.xlabel(\"Civility Score\")\n",
    "plt.ylabel(\"Intelligence Score\")\n",
    "plt.legend(title=\"Cluster\")\n",
    "plt.show()"
   ]
  },
  {
   "cell_type": "code",
   "execution_count": 43,
   "id": "096ba57d-6686-4442-88c0-2229aa49defd",
   "metadata": {},
   "outputs": [
    {
     "name": "stdout",
     "output_type": "stream",
     "text": [
      "\n",
      "Cluster Distribution Across Platforms (Proportion):\n",
      "    platform  cluster  count  proportion\n",
      "0    Bluesky        0    100         1.0\n",
      "1   Facebook        0    100         1.0\n",
      "2  Instagram        0    100         1.0\n",
      "3   Mastodon        0    100         1.0\n",
      "4    Twitter        0    100         1.0\n"
     ]
    },
    {
     "data": {
      "image/png": "[encoded data removed]",
      "text/plain": [
       "<Figure size 1000x600 with 1 Axes>"
      ]
     },
     "metadata": {},
     "output_type": "display_data"
    }
   ],
   "source": [
    "# Cluster Distribution Across Platforms\n",
    "cluster_distribution = data.groupby([\"platform\", \"cluster\"]).size().reset_index(name=\"count\")\n",
    "total_counts = cluster_distribution.groupby(\"platform\")[\"count\"].transform(\"sum\")\n",
    "cluster_distribution[\"proportion\"] = cluster_distribution[\"count\"] / total_counts\n",
    "\n",
    "print(\"\\nCluster Distribution Across Platforms (Proportion):\")\n",
    "print(cluster_distribution)\n",
    "\n",
    "# Visualization: Stacked Bar Chart for Cluster Distribution\n",
    "platforms = cluster_distribution[\"platform\"].unique()\n",
    "clusters = cluster_distribution[\"cluster\"].unique()\n",
    "cluster_pivot = cluster_distribution.pivot(index=\"platform\", columns=\"cluster\", values=\"proportion\").fillna(0)\n",
    "\n",
    "cluster_pivot.plot(kind=\"bar\", stacked=True, figsize=(10, 6), colormap=\"viridis\")\n",
    "plt.title(\"Cluster Distribution Across Platforms (Proportion)\")\n",
    "plt.xlabel(\"Platform\")\n",
    "plt.ylabel(\"Proportion of Clusters\")\n",
    "plt.legend(title=\"Cluster\", bbox_to_anchor=(1.05, 1), loc=\"upper left\")\n",
    "plt.tight_layout()\n",
    "plt.show()"
   ]
  },
  {
   "cell_type": "code",
   "execution_count": 44,
   "id": "675afab2-2e52-4fdb-9f8f-7d9dc1cb7a52",
   "metadata": {},
   "outputs": [
    {
     "name": "stdout",
     "output_type": "stream",
     "text": [
      "\n",
      "Intelligence Scores Across Platforms:\n",
      "    platform  intelligence_score\n",
      "0    Bluesky              2.8057\n",
      "1   Facebook              2.8876\n",
      "2  Instagram              2.9386\n",
      "3   Mastodon              3.2119\n",
      "4    Twitter              3.2122\n"
     ]
    },
    {
     "name": "stderr",
     "output_type": "stream",
     "text": [
      "/tmp/ipykernel_3212241/2720078814.py:8: FutureWarning: \n",
      "\n",
      "Passing `palette` without assigning `hue` is deprecated and will be removed in v0.14.0. Assign the `x` variable to `hue` and set `legend=False` for the same effect.\n",
      "\n",
      "  sns.barplot(x=\"platform\", y=\"intelligence_score\", data=intelligence, palette=\"coolwarm\")\n"
     ]
    },
    {
     "data": {
      "image/png": "[encoded data removed]",
      "text/plain": [
       "<Figure size 1000x600 with 1 Axes>"
      ]
     },
     "metadata": {},
     "output_type": "display_data"
    }
   ],
   "source": [
    "# Intelligence Scores Across Platforms\n",
    "intelligence = data.groupby(\"platform\")[\"intelligence_score\"].mean().reset_index()\n",
    "print(\"\\nIntelligence Scores Across Platforms:\")\n",
    "print(intelligence)\n",
    "\n",
    "# Visualization: Intelligence Scores\n",
    "plt.figure(figsize=(10, 6))\n",
    "sns.barplot(x=\"platform\", y=\"intelligence_score\", data=intelligence, palette=\"coolwarm\")\n",
    "plt.title(\"Intelligence Scores Across Platforms\")\n",
    "plt.xlabel(\"Platform\")\n",
    "plt.ylabel(\"Average Intelligence Score\")\n",
    "plt.show()"
   ]
  },
  {
   "cell_type": "code",
   "execution_count": null,
   "id": "8381a570-a796-4a5b-8ba1-d944daf2fb74",
   "metadata": {},
   "outputs": [],
   "source": [
    "import numpy as np\n",
    "# Perception vs Reality (Civility and Intelligence)\n",
    "# Aggregating actual scores from the posts\n",
    "actual_scores = data.groupby(\"platform\").agg({\n",
    "    \"civility_score\": \"mean\",\n",
    "    \"intelligence_score\": \"mean\"\n",
    "}).reset_index()\n",
    "actual_scores.columns = [\"platform\", \"actual_civility_score\", \"actual_intelligence_score\"]\n",
    "\n",
    "# Aggregating survey scores\n",
    "survey_scores = survey_data.groupby(\"platform\").agg({\n",
    "    \"civility_score\": \"mean\",\n",
    "    \"intelligence\": \"mean\"\n",
    "}).reset_index()\n",
    "survey_scores.columns = [\"platform\", \"perceived_civility_score\", \"perceived_intelligence_score\"]\n",
    "\n",
    "# Merge the two datasets for comparison\n",
    "perception_vs_reality = pd.merge(actual_scores, survey_scores, on=\"platform\")\n",
    "\n",
    "print(\"\\nPerception vs Reality of Civility and Intelligence Scores:\")\n",
    "print(perception_vs_reality)\n",
    "\n",
    "# Visualization: Grouped Bar Chart for Perception vs Reality\n",
    "fig, ax = plt.subplots(2, 1, figsize=(12, 10), sharex=True)\n",
    "\n",
    "x = np.arange(len(perception_vs_reality[\"platform\"]))\n",
    "width = 0.35  # Bar width\n",
    "\n",
    "# Civility Comparison\n",
    "ax[0].bar(x - width/2, perception_vs_reality[\"actual_civility_score\"], width, label=\"Actual Civility Score\", color=\"skyblue\")\n",
    "ax[0].bar(x + width/2, perception_vs_reality[\"perceived_civility_score\"], width, label=\"Perceived Civility Score\", color=\"orange\")\n",
    "ax[0].set_title(\"Perception vs Reality of Civility Scores Across Platforms\")\n",
    "ax[0].set_ylabel(\"Civility Score\")\n",
    "ax[0].set_xticks(x)\n",
    "ax[0].set_xticklabels(perception_vs_reality[\"platform\"])\n",
    "ax[0].legend()\n",
    "\n",
    "# Intelligence Comparison\n",
    "ax[1].bar(x - width/2, perception_vs_reality[\"actual_intelligence_score\"], width, label=\"Actual Intelligence Score\", color=\"lightgreen\")\n",
    "ax[1].bar(x + width/2, perception_vs_reality[\"perceived_intelligence_score\"], width, label=\"Perceived Intelligence Score\", color=\"purple\")\n",
    "ax[1].set_title(\"Perception vs Reality of Intelligence Scores Across Platforms\")\n",
    "ax[1].set_ylabel(\"Intelligence Score\")\n",
    "ax[1].set_xticks(x)\n",
    "ax[1].set_xticklabels(perception_vs_reality[\"platform\"])\n",
    "ax[1].legend()\n",
    "\n",
    "plt.xlabel(\"Platform\")\n",
    "plt.tight_layout()\n",
    "plt.show()\n"
   ]
  },
  {
   "cell_type": "code",
   "execution_count": 46,
   "id": "cc6b8b35-64a5-40fd-8e67-acb95d2b8a58",
   "metadata": {},
   "outputs": [],
   "source": [
    "# Section 9: Machine Learning: Relationships and Analysis"
   ]
  },
  {
   "cell_type": "code",
   "execution_count": 47,
   "id": "fb266e7b-79a2-4219-8c1c-eced32afa16d",
   "metadata": {},
   "outputs": [
    {
     "name": "stdout",
     "output_type": "stream",
     "text": [
      "Mean Squared Error: 1.30\n",
      "R-squared: -0.06\n"
     ]
    }
   ],
   "source": [
    "# Civility and Intelligence\n",
    "def analyze_relationships(data):\n",
    "    # Use Linear Regression to analyze relationships.\n",
    "    # Civility and Intelligence Relationship\n",
    "    X = data[[\"civility_score\"]]\n",
    "    y = data[\"intelligence_score\"]\n",
    "    \n",
    "    X_train, X_test, y_train, y_test = train_test_split(X, y, test_size=0.2, random_state=42)\n",
    "    model = LinearRegression()\n",
    "    model.fit(X_train, y_train)\n",
    "    \n",
    "    predictions = model.predict(X_test)\n",
    "    mse = mean_squared_error(y_test, predictions)\n",
    "    r2 = r2_score(y_test, predictions)\n",
    "    \n",
    "    print(f\"Mean Squared Error: {mse:.2f}\")\n",
    "    print(f\"R-squared: {r2:.2f}\")\n",
    "    return model\n",
    "\n",
    "relationship_model = analyze_relationships(data)\n"
   ]
  },
  {
   "cell_type": "code",
   "execution_count": 48,
   "id": "d771fae6-e211-4298-819e-73945ee45111",
   "metadata": {},
   "outputs": [
    {
     "name": "stdout",
     "output_type": "stream",
     "text": [
      "Mean Squared Error: 0.60\n",
      "R-squared: nan\n"
     ]
    },
    {
     "name": "stderr",
     "output_type": "stream",
     "text": [
      "/usr/lib/anaconda3/lib/python3.12/site-packages/sklearn/metrics/_regression.py:1187: UndefinedMetricWarning: R^2 score is not well-defined with less than two samples.\n",
      "  warnings.warn(msg, UndefinedMetricWarning)\n"
     ]
    }
   ],
   "source": [
    "# Algorithms and Echo chambers\n",
    "# Preprocess data\n",
    "def preprocess_data(data, survey_data):\n",
    "    # Encode categorical variables\n",
    "    le_platform = LabelEncoder()\n",
    "    data['platform_encoded'] = le_platform.fit_transform(data['platform'])\n",
    "    survey_data['platform_encoded'] = le_platform.transform(survey_data['platform'])\n",
    "    \n",
    "    # Merge data and survey_data on user_id\n",
    "    merged_data = pd.merge(data, survey_data, on='user_id')\n",
    "    \n",
    "    return merged_data\n",
    "\n",
    "# Analyze relationship between algorithms and echo chambers using linear regression\n",
    "def analyze_relationships(data, survey_data):\n",
    "    merged_data = preprocess_data(data, survey_data)\n",
    "    \n",
    "    # Features and target variable\n",
    "    X = merged_data[['platform_encoded_x', 'cluster']]\n",
    "    y = merged_data['echo_chamber_perception'].astype(int)  # Convert boolean to int for regression\n",
    "    \n",
    "    # Split the data\n",
    "    X_train, X_test, y_train, y_test = train_test_split(X, y, test_size=0.2, random_state=42)\n",
    "    \n",
    "    # Linear Regression model\n",
    "    model = LinearRegression()\n",
    "    model.fit(X_train, y_train)\n",
    "    \n",
    "    # Predictions\n",
    "    y_pred = model.predict(X_test)\n",
    "    \n",
    "    # Evaluation\n",
    "    mse = mean_squared_error(y_test, y_pred)\n",
    "    r2 = r2_score(y_test, y_pred)\n",
    "    print(f\"Mean Squared Error: {mse:.2f}\")\n",
    "    print(f\"R-squared: {r2:.2f}\")\n",
    "    \n",
    "    return model\n",
    "\n",
    "# Run the analysis\n",
    "relationship_model = analyze_relationships(data, survey_data)"
   ]
  },
  {
   "cell_type": "code",
   "execution_count": 49,
   "id": "f9bab145-46dc-43dd-a5a8-f93ec382c261",
   "metadata": {},
   "outputs": [
    {
     "name": "stdout",
     "output_type": "stream",
     "text": [
      "\n",
      "Final Data Sample:\n",
      "  platform                                      text  \\\n",
      "0  Twitter   This is a sample post about topic four.   \n",
      "1  Twitter  This is a sample post about topic three.   \n",
      "2  Twitter    This is a sample post about topic one.   \n",
      "3  Twitter    This is a sample post about topic two.   \n",
      "4  Twitter    This is a sample post about topic one.   \n",
      "\n",
      "                  created_at  user_id               clean_text  \\\n",
      "0 2024-11-07 02:46:34.557412     5579   sample post topic four   \n",
      "1 2024-11-15 17:46:34.557655     7948  sample post topic three   \n",
      "2 2024-11-30 00:46:34.557702     9455    sample post topic one   \n",
      "3 2024-11-01 14:46:34.557734     5870    sample post topic two   \n",
      "4 2024-11-06 04:46:34.557762     8927    sample post topic one   \n",
      "\n",
      "   civility_score  intelligence_score  cluster  platform_encoded  \n",
      "0            3.07                2.44        0                 4  \n",
      "1            2.34                2.28        0                 4  \n",
      "2            4.45                4.68        0                 4  \n",
      "3            4.69                4.08        0                 4  \n",
      "4            4.85                3.85        0                 4  \n",
      "   user_id  platform  civility_score  usability_score  \\\n",
      "0     5063   Twitter        3.100002         1.122429   \n",
      "1     4634   Twitter        1.343578         2.037000   \n",
      "2     8901  Mastodon        3.478047         3.543304   \n",
      "3     9491   Twitter        1.167504         3.798037   \n",
      "4     5309  Mastodon        3.300131         4.001628   \n",
      "\n",
      "   echo_chamber_perception  intelligence  platform_encoded  \n",
      "0                    False    159.401515                 4  \n",
      "1                    False    138.670552                 4  \n",
      "2                    False    135.851212                 3  \n",
      "3                     True    100.892009                 4  \n",
      "4                    False     97.881961                 3  \n"
     ]
    }
   ],
   "source": [
    "# Summary\n",
    "print(\"\\nFinal Data Sample:\")\n",
    "print(data.head())\n",
    "print(survey_data.head())"
   ]
  },
  {
   "cell_type": "code",
   "execution_count": null,
   "id": "db0adb79-9f69-4ea1-8393-d3ca57966bc0",
   "metadata": {},
   "outputs": [],
   "source": [
    "# Extra: Main Workflow"
   ]
  },
  {
   "cell_type": "code",
   "execution_count": null,
   "id": "d18a0342-fd7c-4409-aab2-129e06d1ab4e",
   "metadata": {},
   "outputs": [],
   "source": []
  }
 ],
 "metadata": {
  "kernelspec": {
   "display_name": "Python 3 (ipykernel)",
   "language": "python",
   "name": "python3"
  },
  "language_info": {
   "codemirror_mode": {
    "name": "ipython",
    "version": 3
   },
   "file_extension": ".py",
   "mimetype": "text/x-python",
   "name": "python",
   "nbconvert_exporter": "python",
   "pygments_lexer": "ipython3",
   "version": "3.12.2"
  }
 },
 "nbformat": 4,
 "nbformat_minor": 5
}
